{
 "cells": [
  {
   "cell_type": "code",
   "execution_count": null,
   "id": "0892a85a-d7ba-4379-aeae-a333da15cdbd",
   "metadata": {},
   "outputs": [],
   "source": [
    "Q1. What is Abstraction in OOps? Explain with an example."
   ]
  },
  {
   "cell_type": "code",
   "execution_count": 2,
   "id": "07f0c3b8-0035-4229-b1c6-359eabbf2606",
   "metadata": {},
   "outputs": [],
   "source": [
    "''' ANS: An abstract class can be considered a blueprint for other classes it allows you to create a set of methods that must be created within any child \n",
    "classes build from the abstract class.A class that contains onne or more abstract methods is called an abstract class'''\n",
    "\n",
    "import abc\n",
    "class pwskills:\n",
    "    \n",
    "    @abc.abstractmethod\n",
    "    def student_details(self):\n",
    "        pass\n",
    "    \n",
    "    @abc.abstractmethod\n",
    "    def student_assignment(self):\n",
    "        pass\n",
    "    \n",
    "    @abc.abstractmethod\n",
    "    def student_marks(self):\n",
    "        pass"
   ]
  },
  {
   "cell_type": "code",
   "execution_count": 3,
   "id": "6e6fbc5b-c466-4b45-9e0e-4706a4d174a9",
   "metadata": {},
   "outputs": [],
   "source": [
    "class student_details(pwskills):\n",
    "    def student_details(self):\n",
    "        return 'this is a meth for taking student details'\n",
    "    def student_assignment(self):\n",
    "        return 'this is a meth for assing details for particular student'"
   ]
  },
  {
   "cell_type": "code",
   "execution_count": 4,
   "id": "a071b3ab-c5fb-4daa-b7a5-142e4ceaa87f",
   "metadata": {},
   "outputs": [],
   "source": [
    "class data_science_master(pwskills):\n",
    "    def student_details(self):\n",
    "        return 'this will return a student details for data science masters'\n",
    "    def student_assignment(self):\n",
    "        return 'this will return a student assignment for data science masters'"
   ]
  },
  {
   "cell_type": "code",
   "execution_count": 5,
   "id": "2736ddaa-12d7-45cf-9c1f-e0d74de1082e",
   "metadata": {},
   "outputs": [],
   "source": [
    "dsm = data_science_master()"
   ]
  },
  {
   "cell_type": "code",
   "execution_count": 7,
   "id": "e220ee63-2624-4253-a5d2-5267c72bcc0b",
   "metadata": {},
   "outputs": [
    {
     "data": {
      "text/plain": [
       "'this will return a student details for data science masters'"
      ]
     },
     "execution_count": 7,
     "metadata": {},
     "output_type": "execute_result"
    }
   ],
   "source": [
    "dsm.student_details()"
   ]
  },
  {
   "cell_type": "code",
   "execution_count": 8,
   "id": "acb100d4-d7c6-4138-b01a-51028b09e621",
   "metadata": {},
   "outputs": [],
   "source": [
    "sd = student_details()"
   ]
  },
  {
   "cell_type": "code",
   "execution_count": 11,
   "id": "c4707328-45e0-4e60-91bf-7cc95632e86a",
   "metadata": {},
   "outputs": [
    {
     "data": {
      "text/plain": [
       "'this is a meth for taking student details'"
      ]
     },
     "execution_count": 11,
     "metadata": {},
     "output_type": "execute_result"
    }
   ],
   "source": [
    "sd.student_details()"
   ]
  },
  {
   "cell_type": "code",
   "execution_count": null,
   "id": "2221bfb2-40de-409e-964b-5f99d5ea8efe",
   "metadata": {},
   "outputs": [],
   "source": [
    "Q2. Differentiate between Abstraction and Encapsulation. Explain with an example."
   ]
  },
  {
   "cell_type": "code",
   "execution_count": 12,
   "id": "bdb8eb37-9d97-49a0-9099-8a9c183a9ed9",
   "metadata": {},
   "outputs": [],
   "source": [
    "# abstraction provide access to specific part of data. Encapsulation hide data and the user can not access same directly\n",
    "\n",
    "#Abstraction\n",
    "import abc\n",
    "class pwskills:\n",
    "    \n",
    "    @abc.abstractmethod\n",
    "    def student_details(self):\n",
    "        pass\n",
    "    \n",
    "    @abc.abstractmethod\n",
    "    def student_assignment(self):\n",
    "        pass\n",
    "    \n",
    "    @abc.abstractmethod\n",
    "    def student_marks(self):\n",
    "        pass\n",
    "\n",
    "class student_details(pwskills):\n",
    "    def student_details(self):\n",
    "        return 'this is a meth for taking student details'\n",
    "    def student_assignment(self):\n",
    "        return 'this is a meth for assing details for particular student'\n",
    "\n",
    "class data_science_master(pwskills):\n",
    "    def student_details(self):\n",
    "        return 'this will return a student details for data science masters'\n",
    "    def student_assignment(self):\n",
    "        return 'this will return a student assignment for data science masters'"
   ]
  },
  {
   "cell_type": "code",
   "execution_count": 13,
   "id": "e1c7dfa2-7b9e-47b4-9c26-82ca3dfc059e",
   "metadata": {},
   "outputs": [],
   "source": [
    "dsm = data_science_master()"
   ]
  },
  {
   "cell_type": "code",
   "execution_count": 14,
   "id": "8d17a628-9ec9-46e1-bd48-3f08dce9cc05",
   "metadata": {},
   "outputs": [
    {
     "data": {
      "text/plain": [
       "'this will return a student details for data science masters'"
      ]
     },
     "execution_count": 14,
     "metadata": {},
     "output_type": "execute_result"
    }
   ],
   "source": [
    "dsm.student_details()"
   ]
  },
  {
   "cell_type": "code",
   "execution_count": 15,
   "id": "e85c087a-457a-4313-99cd-ef5b4f60daab",
   "metadata": {},
   "outputs": [],
   "source": [
    "sd = student_details()"
   ]
  },
  {
   "cell_type": "code",
   "execution_count": 16,
   "id": "c0273a73-8e5e-473a-98f2-b1656d99345a",
   "metadata": {},
   "outputs": [
    {
     "data": {
      "text/plain": [
       "'this is a meth for taking student details'"
      ]
     },
     "execution_count": 16,
     "metadata": {},
     "output_type": "execute_result"
    }
   ],
   "source": [
    "sd.student_details()"
   ]
  },
  {
   "cell_type": "code",
   "execution_count": 2,
   "id": "1a262cd3-61d1-4177-a3f0-bed4f65abd36",
   "metadata": {},
   "outputs": [],
   "source": [
    "#Encapsulation\n",
    "\n",
    "class bank_account():\n",
    "    \n",
    "    def __init__(self,balance):\n",
    "        self.__balance = balance\n",
    "        \n",
    "    def deposit(self,amount):\n",
    "        self.__balance = self.__balance + amount\n",
    "        \n",
    "    def withdraw(self, amount):\n",
    "        if self.__balance >= amount:\n",
    "            self.__balance = self.__balance - amount\n",
    "            return True\n",
    "        else:\n",
    "            return 'Account balnce is Nil'\n",
    "        \n",
    "    def get_balance(self):\n",
    "        return self.__balance\n",
    "\n",
    "sudh = bank_account(1000)\n",
    "        "
   ]
  },
  {
   "cell_type": "code",
   "execution_count": 9,
   "id": "50efade5-3074-488a-bb00-9df6e2b498e0",
   "metadata": {},
   "outputs": [
    {
     "data": {
      "text/plain": [
       "0"
      ]
     },
     "execution_count": 9,
     "metadata": {},
     "output_type": "execute_result"
    }
   ],
   "source": [
    "sudh.get_balance()\n",
    "sudh.withdraw(500)\n",
    "sudh.get_balance()"
   ]
  },
  {
   "cell_type": "code",
   "execution_count": null,
   "id": "06ce74c8-4306-4f8c-ac1b-e254f7b70160",
   "metadata": {},
   "outputs": [],
   "source": [
    "Q3. What is abc module in python? Why is it used?"
   ]
  },
  {
   "cell_type": "code",
   "execution_count": null,
   "id": "9f87bcbd-0295-4bc4-8edc-7f77511ffc2c",
   "metadata": {},
   "outputs": [],
   "source": [
    "''' ANS: abc is Abstract class is one of important concept in object oriented programming it like blueprint \n",
    "for other class \n",
    "why we are using because for larger project, it is impossible to remeber the class details and also the reusability of code can increase\n",
    "the bug. it plays a crucial role in our projects \n",
    "by default python does not provide abstract classes. the'abc' module in the python library provides the infrastructure for defining\n",
    "custom abstract base class\n",
    "an abstract method can be call by subclasses.'''"
   ]
  },
  {
   "cell_type": "code",
   "execution_count": null,
   "id": "520163fb-bd0f-42a1-aca4-e974ca784e32",
   "metadata": {},
   "outputs": [],
   "source": [
    "Q4. How can we achieve data abstraction?"
   ]
  },
  {
   "cell_type": "code",
   "execution_count": null,
   "id": "296c5ba7-f996-4229-ab37-1f6e523cd7a0",
   "metadata": {},
   "outputs": [],
   "source": [
    "''' ANS: \n",
    "Data abstraction in python can be achieved by using abstract classes and methods\n",
    "an abstract class is a class that contains one or more abstract methods. an abstract method is a method that is declared but does not\n",
    "contain any implementation. this means that the abstract method must be implemented by any subclass of the abstract class.\n",
    "\n",
    "to create an abstract class use the @abstractmethod (decorator)"
   ]
  },
  {
   "cell_type": "code",
   "execution_count": null,
   "id": "12168174-c980-4c19-87d4-58dddbb030b2",
   "metadata": {},
   "outputs": [],
   "source": [
    "Q5. Can we create an instance of an abstract class? Explain your answer."
   ]
  },
  {
   "cell_type": "code",
   "execution_count": 13,
   "id": "82710c07-8bb8-4245-bbc8-3c5032914258",
   "metadata": {},
   "outputs": [
    {
     "data": {
      "text/plain": [
       "' ANS :\\nNo, we cannot create an instance of an abstract class in python an abstract class is a class that is incomplete, meaning that it has\\nsome methods that are not defined. That why it is called an abstact class because it is not a complete class\\n\\nif we try to create an instace of abstract class we will get error.'"
      ]
     },
     "execution_count": 13,
     "metadata": {},
     "output_type": "execute_result"
    }
   ],
   "source": [
    "''' ANS :\n",
    "No, we cannot create an instance of an abstract class in python an abstract class is a class that is incomplete, meaning that it has\n",
    "some methods that are not defined. That why it is called an abstact class because it is not a complete class\n",
    "\n",
    "if we try to create an instace of abstract class we will get error.'''\n",
    "\n"
   ]
  },
  {
   "cell_type": "code",
   "execution_count": 25,
   "id": "e187d667-5ada-41ed-862e-9363235d52f2",
   "metadata": {},
   "outputs": [
    {
     "ename": "TypeError",
     "evalue": "Can't instantiate abstract class pwskill with abstract method course",
     "output_type": "error",
     "traceback": [
      "\u001b[0;31m---------------------------------------------------------------------------\u001b[0m",
      "\u001b[0;31mTypeError\u001b[0m                                 Traceback (most recent call last)",
      "Cell \u001b[0;32mIn[25], line 6\u001b[0m\n\u001b[1;32m      3\u001b[0m     \u001b[38;5;129m@abstractmethod\u001b[39m\n\u001b[1;32m      4\u001b[0m     \u001b[38;5;28;01mdef\u001b[39;00m \u001b[38;5;21mcourse\u001b[39m(\u001b[38;5;28mself\u001b[39m):\n\u001b[1;32m      5\u001b[0m         \u001b[38;5;28;01mpass\u001b[39;00m\n\u001b[0;32m----> 6\u001b[0m inst \u001b[38;5;241m=\u001b[39m \u001b[43mpwskill\u001b[49m\u001b[43m(\u001b[49m\u001b[43m)\u001b[49m\n",
      "\u001b[0;31mTypeError\u001b[0m: Can't instantiate abstract class pwskill with abstract method course"
     ]
    }
   ],
   "source": [
    "from abc import ABC ,abstractmethod\n",
    "class pwskill(ABC):\n",
    "    @abstractmethod\n",
    "    def course(self):\n",
    "        pass\n",
    "inst = pwskill()"
   ]
  }
 ],
 "metadata": {
  "kernelspec": {
   "display_name": "Python 3 (ipykernel)",
   "language": "python",
   "name": "python3"
  },
  "language_info": {
   "codemirror_mode": {
    "name": "ipython",
    "version": 3
   },
   "file_extension": ".py",
   "mimetype": "text/x-python",
   "name": "python",
   "nbconvert_exporter": "python",
   "pygments_lexer": "ipython3",
   "version": "3.10.8"
  }
 },
 "nbformat": 4,
 "nbformat_minor": 5
}
