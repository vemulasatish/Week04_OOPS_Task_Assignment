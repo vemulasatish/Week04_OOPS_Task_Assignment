{
 "cells": [
  {
   "cell_type": "code",
   "execution_count": null,
   "id": "3b8be922-7415-4e4e-979c-65a3ff58ae34",
   "metadata": {},
   "outputs": [],
   "source": [
    "Q1. Explain Class and Object with respect to Object-Oriented Programming. Give a suitable example."
   ]
  },
  {
   "cell_type": "code",
   "execution_count": 2,
   "id": "16deb729-9e76-4d31-b9ff-ae1b187ee634",
   "metadata": {},
   "outputs": [
    {
     "name": "stdout",
     "output_type": "stream",
     "text": [
      "<__main__.ClassName object at 0x7f978542d660>\n"
     ]
    }
   ],
   "source": [
    "#ANS : A class is a user defined blueprint from which object are created\n",
    "    #Class\n",
    "class ClassName:\n",
    "    pass\n",
    "    #Statement\n",
    "    \n",
    "    #Object\n",
    "Obj = ClassName()\n",
    "print(Obj.atrr)\n"
   ]
  },
  {
   "cell_type": "code",
   "execution_count": null,
   "id": "4530915d-1073-49ba-bc45-c47c29b9c7f4",
   "metadata": {},
   "outputs": [],
   "source": [
    "Q2. Name the four pillars of OOPs."
   ]
  },
  {
   "cell_type": "code",
   "execution_count": null,
   "id": "43abb260-1630-447c-b5b6-3882df719b12",
   "metadata": {},
   "outputs": [],
   "source": [
    "'''ANS\n",
    "1.Abstraction\n",
    "2.Encapsulation\n",
    "3.Inheritance\n",
    "4.Polymorphism"
   ]
  },
  {
   "cell_type": "code",
   "execution_count": null,
   "id": "9bf63be3-daed-4446-93e1-9b582e25544a",
   "metadata": {},
   "outputs": [],
   "source": [
    "Q3. Explain why the __init__() function is used. Give a suitable example."
   ]
  },
  {
   "cell_type": "code",
   "execution_count": null,
   "id": "98227142-3a99-44a5-9e0c-b9df62922729",
   "metadata": {},
   "outputs": [],
   "source": [
    "'''ANS: __init__ this is called automaticcally whenever a new object of a class is created. A constructor function is a function that is \n",
    "called every time a new class object is created"
   ]
  },
  {
   "cell_type": "code",
   "execution_count": 2,
   "id": "86858ae3-b9a7-4734-9eb1-a8fbecf64c5b",
   "metadata": {},
   "outputs": [
    {
     "name": "stdout",
     "output_type": "stream",
     "text": [
      "I drove first time car\n",
      "I drove second time car\n"
     ]
    },
    {
     "data": {
      "text/plain": [
       "'Name: Audi R8'"
      ]
     },
     "execution_count": 2,
     "metadata": {},
     "output_type": "execute_result"
    }
   ],
   "source": [
    "class Car :\n",
    "    def __init__ (self, name):\n",
    "        self.name =name\n",
    "        print(\"I drove first time car\")\n",
    "        \n",
    "    def Product(self):\n",
    "        print(\"I drove second time car\")\n",
    "        return (\"Name: \" + self.name)\n",
    "C = Car('Audi R8')\n",
    "C.Product()"
   ]
  },
  {
   "cell_type": "code",
   "execution_count": null,
   "id": "3b6b27b4-9f71-4f09-b628-db66b8203163",
   "metadata": {},
   "outputs": [],
   "source": [
    "Q4. Why self is used in OOPs?"
   ]
  },
  {
   "cell_type": "code",
   "execution_count": null,
   "id": "9944b17b-ef83-4616-8733-524bd7d002c0",
   "metadata": {},
   "outputs": [],
   "source": [
    "''' ANS : Self represents the instance of the class, By using the self we can access the attributes and methods of the class in python. \n",
    "it blinds the attributes with the given arguments, the reason you need to use self. is because python does not use the @syntax to refer to instance attributes"
   ]
  },
  {
   "cell_type": "code",
   "execution_count": null,
   "id": "0431f2d4-f427-44b3-b7ec-6c1cbed256c1",
   "metadata": {},
   "outputs": [],
   "source": [
    "Q5. What is inheritance? Give an example for each type of inheritance."
   ]
  },
  {
   "cell_type": "code",
   "execution_count": null,
   "id": "bb1dd6c7-c71e-4de6-80cc-8983f23180c6",
   "metadata": {},
   "outputs": [],
   "source": [
    "''' ANS: Inheritance is a mechanism that allows you to create a hierarchy of classes that share a set of properties and method by derive or \n",
    "inherit the properties from another class\n",
    "and there are four type of inheritance in python \n",
    "1. single inheritance \n",
    "2. multiple inheritance\n",
    "3. multilevel inheritance \n",
    "4. Hierarchical inheritance\n",
    "5. Hybrid inheritance "
   ]
  },
  {
   "cell_type": "code",
   "execution_count": 3,
   "id": "077df5ff-c7c9-4b12-95be-8807824d9a04",
   "metadata": {},
   "outputs": [],
   "source": [
    "#single inheritance \n",
    "\n",
    "class test():\n",
    "    def test_method(self):\n",
    "        print('This is parent meth')"
   ]
  },
  {
   "cell_type": "code",
   "execution_count": 4,
   "id": "6b8b01ab-cd56-4ee4-b75d-76e67d197174",
   "metadata": {},
   "outputs": [],
   "source": [
    "class child_test(test):\n",
    "    pass"
   ]
  },
  {
   "cell_type": "code",
   "execution_count": 5,
   "id": "51cedbcd-dfd9-4022-8b28-385a9d30b9fd",
   "metadata": {},
   "outputs": [],
   "source": [
    "child_test_obj = child_test()"
   ]
  },
  {
   "cell_type": "code",
   "execution_count": 7,
   "id": "9f900486-6b7b-4ef2-9322-19cf6a108fcb",
   "metadata": {},
   "outputs": [
    {
     "name": "stdout",
     "output_type": "stream",
     "text": [
      "This is parent meth\n"
     ]
    }
   ],
   "source": [
    "child_test_obj.test_method()"
   ]
  },
  {
   "cell_type": "code",
   "execution_count": 14,
   "id": "39ec102d-f331-406d-bf10-7f1ce10bca9b",
   "metadata": {},
   "outputs": [],
   "source": [
    "# multilevel inheritance\n",
    "\n",
    "class class1():\n",
    "    def test_class1(self):\n",
    "        print('This is class1')\n",
    "\n",
    "class class2(class1):\n",
    "    def test_class2(self):\n",
    "        print('This is class2')\n",
    "class class3(class2):\n",
    "    \n",
    "        pass"
   ]
  },
  {
   "cell_type": "code",
   "execution_count": 9,
   "id": "98480ad5-ee56-4663-b45f-d855137bc365",
   "metadata": {},
   "outputs": [],
   "source": [
    "class_obj = class3()"
   ]
  },
  {
   "cell_type": "code",
   "execution_count": 17,
   "id": "3737ac73-375a-4517-ace6-9d84557751db",
   "metadata": {},
   "outputs": [
    {
     "name": "stdout",
     "output_type": "stream",
     "text": [
      "This is class1\n"
     ]
    }
   ],
   "source": [
    "class_obj.test_class1()"
   ]
  },
  {
   "cell_type": "code",
   "execution_count": 18,
   "id": "efabcc81-ef12-458a-9f50-703898173e1e",
   "metadata": {},
   "outputs": [
    {
     "name": "stdout",
     "output_type": "stream",
     "text": [
      "This is class2\n"
     ]
    }
   ],
   "source": [
    "class_obj.test_class2()"
   ]
  },
  {
   "cell_type": "code",
   "execution_count": 22,
   "id": "20b074c0-7d05-4b81-9e4e-17cb9c447448",
   "metadata": {},
   "outputs": [],
   "source": [
    "#multiple inheritance\n",
    "\n",
    "class class1:\n",
    "    def test_class1(self):\n",
    "        return 'this  is my class1'\n",
    "\n",
    "class class2:\n",
    "    def test_class2(self):\n",
    "        return 'this is my class2'\n",
    "class class3(class1, class2):\n",
    "    pass"
   ]
  },
  {
   "cell_type": "code",
   "execution_count": 23,
   "id": "93a22f0b-b9a2-45bd-8c38-5ccdcf2d9367",
   "metadata": {},
   "outputs": [],
   "source": [
    "class3_obj = class3()"
   ]
  },
  {
   "cell_type": "code",
   "execution_count": 24,
   "id": "7335eead-0aeb-4a0a-b807-2e940937bae9",
   "metadata": {},
   "outputs": [
    {
     "name": "stdout",
     "output_type": "stream",
     "text": [
      "This is class1\n"
     ]
    }
   ],
   "source": [
    "class_obj.test_class1()"
   ]
  },
  {
   "cell_type": "code",
   "execution_count": 25,
   "id": "d6fa4a75-4d5b-4587-a626-e30f9e70ab20",
   "metadata": {},
   "outputs": [
    {
     "name": "stdout",
     "output_type": "stream",
     "text": [
      "This is class2\n"
     ]
    }
   ],
   "source": [
    "class_obj.test_class2()"
   ]
  }
 ],
 "metadata": {
  "kernelspec": {
   "display_name": "Python 3 (ipykernel)",
   "language": "python",
   "name": "python3"
  },
  "language_info": {
   "codemirror_mode": {
    "name": "ipython",
    "version": 3
   },
   "file_extension": ".py",
   "mimetype": "text/x-python",
   "name": "python",
   "nbconvert_exporter": "python",
   "pygments_lexer": "ipython3",
   "version": "3.10.8"
  }
 },
 "nbformat": 4,
 "nbformat_minor": 5
}
