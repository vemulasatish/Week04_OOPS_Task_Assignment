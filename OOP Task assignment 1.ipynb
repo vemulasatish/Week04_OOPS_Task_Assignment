{
 "cells": [
  {
   "cell_type": "code",
   "execution_count": null,
   "id": "dce2d6ef-bd12-4d8c-8ab5-19910194a719",
   "metadata": {},
   "outputs": [],
   "source": [
    "Q1, Create a vehicle class with an init method having instance variables as name_of_vehicle, max_speed\n",
    "and average_of_vehicle."
   ]
  },
  {
   "cell_type": "code",
   "execution_count": 7,
   "id": "1daa9bbf-a1b1-4070-9483-398f97ee7a08",
   "metadata": {},
   "outputs": [],
   "source": [
    "class vehicle:\n",
    "    def __init__(self,name_of_vehicle, max_speeed, average_of_vehicle):\n",
    "        self.name_of_vehicle = name_of_vehicle\n",
    "        self.max_speeed = max_speeed\n",
    "        self.average_of_vehicle = average_of_vehicle"
   ]
  },
  {
   "cell_type": "code",
   "execution_count": 3,
   "id": "b5aec191-29eb-4fa4-a4de-17777c1e11a0",
   "metadata": {},
   "outputs": [],
   "source": [
    "vc = vehicle('Toyata', 500, 100)"
   ]
  },
  {
   "cell_type": "code",
   "execution_count": 4,
   "id": "57d1b2b1-aa22-4134-a7f5-d391546cb180",
   "metadata": {},
   "outputs": [
    {
     "data": {
      "text/plain": [
       "'Toyata'"
      ]
     },
     "execution_count": 4,
     "metadata": {},
     "output_type": "execute_result"
    }
   ],
   "source": [
    "vc.name_of_vehicle"
   ]
  },
  {
   "cell_type": "code",
   "execution_count": 5,
   "id": "f4eb9a7c-417f-48b8-b5aa-ff1064f17033",
   "metadata": {},
   "outputs": [
    {
     "data": {
      "text/plain": [
       "500"
      ]
     },
     "execution_count": 5,
     "metadata": {},
     "output_type": "execute_result"
    }
   ],
   "source": [
    "vc.max_speeed"
   ]
  },
  {
   "cell_type": "code",
   "execution_count": 6,
   "id": "88cf58a8-67bb-4354-a37b-3c453bdbec91",
   "metadata": {},
   "outputs": [
    {
     "data": {
      "text/plain": [
       "100"
      ]
     },
     "execution_count": 6,
     "metadata": {},
     "output_type": "execute_result"
    }
   ],
   "source": [
    "vc.average_of_vehicle"
   ]
  },
  {
   "cell_type": "code",
   "execution_count": null,
   "id": "ea6b1596-6285-4b11-b3db-c1af984064dd",
   "metadata": {},
   "outputs": [],
   "source": [
    "Q2. Create a child class car from the vehicle class created in Que 1, which will inherit the vehicle class.\n",
    "Create a method named seating_capacity which takes capacity as an argument and returns the name of\n",
    "the vehicle and its seating capacity."
   ]
  },
  {
   "cell_type": "code",
   "execution_count": 38,
   "id": "110e226d-a730-4ce1-807d-3aba6158ad13",
   "metadata": {},
   "outputs": [],
   "source": [
    "class vehicle:\n",
    "    def __init__(self,name_of_vehicle, max_speeed, average_of_vehicle):\n",
    "        self.name_of_vehicle = name_of_vehicle\n",
    "        self.max_speeed = max_speeed\n",
    "        self.average_of_vehicle = average_of_vehicle\n",
    "        \n",
    "class car(vehicle):\n",
    "    def __init__(self,name_of_vehicle,max_speeed,average_of_vehicle,seating_capacity):\n",
    "        super().__init__(name_of_vehicle,max_speeed,average_of_vehicle)\n",
    "        self.capacity = seating_capacity\n",
    "        \n",
    "    def seating_capacity(self):\n",
    "        return f\"The {self.name_of_vehicle} has a seating capacity of {self.capacity}.\"\n",
    " \n",
    "       "
   ]
  },
  {
   "cell_type": "code",
   "execution_count": 39,
   "id": "230916ca-37aa-4d6e-991b-7d994873592a",
   "metadata": {},
   "outputs": [],
   "source": [
    "cr = car('Toyota',450,100,7)"
   ]
  },
  {
   "cell_type": "code",
   "execution_count": 40,
   "id": "84ab7493-d71f-40f6-a079-d8467b043873",
   "metadata": {},
   "outputs": [
    {
     "name": "stdout",
     "output_type": "stream",
     "text": [
      "The Toyota has a seating capacity of 7.\n"
     ]
    }
   ],
   "source": [
    "print(cr.seating_capacity())"
   ]
  },
  {
   "cell_type": "code",
   "execution_count": null,
   "id": "f7c183aa-b3cc-4e7b-81dc-14df90261795",
   "metadata": {},
   "outputs": [],
   "source": [
    "Q3. What is multiple inheritance? Write a python code to demonstrate multiple inheritance."
   ]
  },
  {
   "cell_type": "code",
   "execution_count": 59,
   "id": "014b6623-76b5-4da4-8986-b0c10be72400",
   "metadata": {},
   "outputs": [],
   "source": [
    "#ANS : when a class is derived from more than once base class it is called multiple inheritance\n",
    "\n",
    "class class1():\n",
    "    def test_class1(self):\n",
    "        return 'this is my first class1'\n",
    "    \n",
    "class class2(class1):\n",
    "    def test_class2(self):\n",
    "        return 'this is my second class2'\n",
    "\n",
    "class class3(class2):\n",
    "    pass\n",
    "obj_class3 = class3()"
   ]
  },
  {
   "cell_type": "code",
   "execution_count": 55,
   "id": "cb146ffb-5177-4e44-aa85-d2197d762a83",
   "metadata": {},
   "outputs": [
    {
     "data": {
      "text/plain": [
       "'this is my first class1'"
      ]
     },
     "execution_count": 55,
     "metadata": {},
     "output_type": "execute_result"
    }
   ],
   "source": [
    "obj_class3.test_class1()"
   ]
  },
  {
   "cell_type": "code",
   "execution_count": 56,
   "id": "24f32e2c-41e1-4684-a1ba-1821da9edcb5",
   "metadata": {},
   "outputs": [
    {
     "data": {
      "text/plain": [
       "'this is my second class2'"
      ]
     },
     "execution_count": 56,
     "metadata": {},
     "output_type": "execute_result"
    }
   ],
   "source": [
    "obj_class3.test_class2()"
   ]
  },
  {
   "cell_type": "code",
   "execution_count": null,
   "id": "5fe6138f-2c60-4997-8ca5-d05bce49c377",
   "metadata": {},
   "outputs": [],
   "source": [
    "Q4. What are getter and setter in python? Create a class and create a getter and a setter method in this\n",
    "class."
   ]
  },
  {
   "cell_type": "code",
   "execution_count": 5,
   "id": "faf4ff8a-f555-45d5-8d79-ea4d8d072089",
   "metadata": {},
   "outputs": [],
   "source": [
    "# ANS : Getter and Setter in python we use getter & Setter to add validation logic around getting and setting a value\n",
    "\n",
    "class pwskills:\n",
    "    \n",
    "    #Getter\n",
    "    def __init__ (self,age = 0):\n",
    "        self._age = age\n",
    "        \n",
    "    def get_age(self):\n",
    "        return self._age\n",
    "    \n",
    "    \n",
    "    #Setter\n",
    "    def set_age(self,x):\n",
    "        self._age = x\n",
    "age_obj = pwskills()\n",
    "\n",
    "age_obj.set_age(30)"
   ]
  },
  {
   "cell_type": "code",
   "execution_count": 3,
   "id": "d4d3a720-36ce-4b59-9cf3-53a61c4bd266",
   "metadata": {},
   "outputs": [
    {
     "name": "stdout",
     "output_type": "stream",
     "text": [
      "30\n"
     ]
    }
   ],
   "source": [
    "print(age_obj.get_age())"
   ]
  },
  {
   "cell_type": "code",
   "execution_count": null,
   "id": "7068dac8-054d-46ad-b490-310bfd683155",
   "metadata": {},
   "outputs": [],
   "source": [
    "Q5.What is method overriding in python? Write a python code to demonstrate method overriding."
   ]
  },
  {
   "cell_type": "code",
   "execution_count": null,
   "id": "074d2e8a-b107-4345-bcfc-6168ddf2d13f",
   "metadata": {},
   "outputs": [],
   "source": [
    "'''# ANS : Method overriding is an ability of any object oriented programming language that allows a subclass or child class to provide\n",
    "a specific implementation of a method that is already provided by one of it super classes or parental classes.'''"
   ]
  },
  {
   "cell_type": "code",
   "execution_count": 6,
   "id": "9d7706d6-7831-4e85-8c80-abb37f77c631",
   "metadata": {},
   "outputs": [],
   "source": [
    "class Parent1():\n",
    "    def Show(self):\n",
    "        print('Inside Parent1')\n",
    "    \n",
    "class Parent2():\n",
    "    def display(self):\n",
    "        print('Inside parent2')\n",
    "\n",
    "class Child(Parent1,Parent2):\n",
    "    def show(self):\n",
    "        print('Inside Child')\n",
    "\n",
    "Check_Obj = Child()\n",
    "        "
   ]
  },
  {
   "cell_type": "code",
   "execution_count": 10,
   "id": "4c7311fd-b4ca-4b4e-a11b-59764867d890",
   "metadata": {},
   "outputs": [
    {
     "name": "stdout",
     "output_type": "stream",
     "text": [
      "Inside parent2\n"
     ]
    }
   ],
   "source": [
    "Check_Obj.display()"
   ]
  },
  {
   "cell_type": "code",
   "execution_count": 9,
   "id": "becfd952-aaba-41ce-bfe2-513f85a0c79a",
   "metadata": {},
   "outputs": [
    {
     "name": "stdout",
     "output_type": "stream",
     "text": [
      "Inside Child\n"
     ]
    }
   ],
   "source": [
    "Check_Obj.show()"
   ]
  }
 ],
 "metadata": {
  "kernelspec": {
   "display_name": "Python 3 (ipykernel)",
   "language": "python",
   "name": "python3"
  },
  "language_info": {
   "codemirror_mode": {
    "name": "ipython",
    "version": 3
   },
   "file_extension": ".py",
   "mimetype": "text/x-python",
   "name": "python",
   "nbconvert_exporter": "python",
   "pygments_lexer": "ipython3",
   "version": "3.10.8"
  }
 },
 "nbformat": 4,
 "nbformat_minor": 5
}
